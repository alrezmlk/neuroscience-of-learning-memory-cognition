{
  "cells": [
    {
      "cell_type": "markdown",
      "metadata": {},
      "source": [
        "<br>\n",
        "<font>\n",
        "<div dir=ltr align=center>\n",
        "<font color=0F5298 size=7>\n",
        "    Neuroscience of Learning, Memory, Cognition <br>\n",
        "<font color=2565AE size=5>\n",
        "    Electrical Engineering Department <br>\n",
        "    Spring 2024<br>\n",
        "<font color=3C99D size=5>\n",
        "    Practical Assignment 1 <br>\n",
        "<font color=696880 size=4>"
      ]
    },
    {
      "cell_type": "markdown",
      "metadata": {},
      "source": [
        "**Name:**\n",
        "\n",
        "**Student Number:**\n"
      ]
    },
    {
      "cell_type": "markdown",
      "metadata": {},
      "source": [
        "# LFP data"
      ]
    },
    {
      "cell_type": "markdown",
      "metadata": {
        "id": "LCISlsiFNGC4"
      },
      "source": [
        "What is LFP (Local Field Potential) signal? Explain briefly  (5 points)"
      ]
    },
    {
      "cell_type": "markdown",
      "metadata": {},
      "source": [
        "Your answer:"
      ]
    },
    {
      "cell_type": "markdown",
      "metadata": {},
      "source": [
        "What is Gamma frequency entrainment? Explain (5 points)"
      ]
    },
    {
      "cell_type": "markdown",
      "metadata": {},
      "source": [
        "Your answer:"
      ]
    },
    {
      "cell_type": "markdown",
      "metadata": {
        "id": "EwwmOMuziYmC"
      },
      "source": [
        "Study about Gamma frequency entrainment's effect on the subject. Explain how it affects the brain. (This article could be useful: Gamma frequency entrainment attenuats amyloid load and modifies microglia)  (5 points)\n"
      ]
    },
    {
      "cell_type": "markdown",
      "metadata": {},
      "source": [
        "Your answer:"
      ]
    },
    {
      "cell_type": "markdown",
      "metadata": {
        "id": "75OPLPYcOwaH"
      },
      "source": [
        "There is an LFP_data file in the zip file, which is located in the CW. This data is related to an experiment with 120 trials and 3 different brain regions of a rat. Each trial consists of 6000 samples, and the sample rate is 2000, resulting in 3 seconds of data per trial. Within this file, there is a channelData matrix that contains recorded data for each region. Additionally, there is a digitalByte vector that specifies when trials began and ended using pulses with an amplitude of 128. Open the file, print the size of the digitalByte and channelData, and then plot the digitalByte.  (5 points)"
      ]
    },
    {
      "cell_type": "code",
      "execution_count": null,
      "metadata": {},
      "outputs": [],
      "source": [
        "# import all the necessary libraries here \n",
        "import numpy as np\n",
        "import scipy as sp\n",
        "import matplotlib.pyplot as plt"
      ]
    },
    {
      "cell_type": "code",
      "execution_count": null,
      "metadata": {
        "id": "3PB9Su7AYsfz"
      },
      "outputs": [],
      "source": [
        "# Load the data from the file provided\n",
        "#############################\n",
        "# Your code goes here\n",
        "\n",
        "#############################\n",
        "\n",
        "print(data.shape)"
      ]
    },
    {
      "cell_type": "markdown",
      "metadata": {},
      "source": [
        "# Pre-processing of the data"
      ]
    },
    {
      "cell_type": "markdown",
      "metadata": {
        "id": "uw8WNf9FTomr"
      },
      "source": [
        "Now we want to pre process our data. Follow the following steps and explain why we do them:  (points 20)\n",
        "\n",
        "1. Apply a bandpass filter in the range 1-300 Hz on the signal of each region.\n",
        "\n",
        "2. Convert the signal to 120 stimulus trials using digitalByte.\n",
        "\n",
        "3. Apply z-score normalization on each trial."
      ]
    },
    {
      "cell_type": "code",
      "execution_count": null,
      "metadata": {
        "id": "5wZy6CKYV_Ss"
      },
      "outputs": [],
      "source": [
        "# preprocess\n",
        "def bandpass_filter(data, low_freq, high_freq):\n",
        "    # Apply a band pass filter on the data\n",
        "    #############################\n",
        "    # Your code goes here\n",
        "\n",
        "    #############################\n",
        "    pass\n",
        "\n",
        "\n",
        "\n",
        "def convert_to_trials(data):\n",
        "    # Extract the trials of the signal\n",
        "    #############################\n",
        "    # Your code goes here\n",
        "\n",
        "    #############################\n",
        "    pass\n",
        "    \n",
        "\n",
        "\n",
        "def z_score(data):\n",
        "    # Calculate the z_score for the data and return the results\n",
        "    #############################\n",
        "    # Your code goes here\n",
        "\n",
        "    #############################\n",
        "    pass\n"
      ]
    },
    {
      "cell_type": "markdown",
      "metadata": {
        "id": "LdlHm8UsAGoa"
      },
      "source": [
        " The three regions represented in the data, respectively, are the Hippocampus, the mPFC (medial Prefrontal Cortex), and the Ventral Striatum. Explain functionality of these regions briefly.  (10 points)"
      ]
    },
    {
      "cell_type": "markdown",
      "metadata": {},
      "source": [
        "Your answer:"
      ]
    },
    {
      "cell_type": "markdown",
      "metadata": {
        "id": "WHJIJL3NY3kw"
      },
      "source": [
        "What is ERP of a neural signal ? Calculate the ERP of given data for each region and plot it(set title for x, y axes.)  (10 points)"
      ]
    },
    {
      "cell_type": "markdown",
      "metadata": {},
      "source": [
        "Your answer:"
      ]
    },
    {
      "cell_type": "code",
      "execution_count": null,
      "metadata": {
        "id": "acqTjrK7BWGy"
      },
      "outputs": [],
      "source": [
        "#ERP calculation\n",
        "def ERP_calc(data):\n",
        "    # Calsulate the ERP of the data\n",
        "    #############################\n",
        "    # Your code goes here\n",
        "\n",
        "    #############################\n",
        "    pass\n",
        "  "
      ]
    },
    {
      "cell_type": "markdown",
      "metadata": {},
      "source": [
        "# Entrainment and some processing techniques"
      ]
    },
    {
      "cell_type": "markdown",
      "metadata": {
        "id": "GMGAg3tqBfxA"
      },
      "source": [
        "Now we want to observe the effect of the entrainment on the LFP signal.\n",
        "\n",
        "1. Write a function which takes a signal and it's respective sample rate and calculate it's PSD. (Hint: You can use some specific modules of the mentioned libraries.)\n",
        "\n",
        "2. Write a function that takes the trials of a signal, calculates the PSD (using part 1) of each trial, and averages these PSDs. We refer to this averaged PSD as the ERSP. Draw ERSP  of Hippocampus, mPFC and Ventral Striatum (set legend, x and y title.) Explain your results.  (20 points)"
      ]
    },
    {
      "cell_type": "code",
      "execution_count": null,
      "metadata": {
        "id": "RfY5FNGfBfW2"
      },
      "outputs": [],
      "source": [
        "# ERSP calculation\n",
        "def PSD(data, sample_rate):\n",
        "    # Calsulate the PSD of the data\n",
        "    #############################\n",
        "    # Your code goes here\n",
        "\n",
        "    #############################\n",
        "    pass\n",
        "\n",
        "def ERSP(trials):\n",
        "    # Calsulate the ERSP of the data\n",
        "    #############################\n",
        "    # Your code goes here\n",
        "\n",
        "    #############################\n",
        "    pass"
      ]
    },
    {
      "cell_type": "markdown",
      "metadata": {
        "id": "CenKeazQIi8I"
      },
      "source": [
        "Draw PSD of ERP for each region and compare results to ERSPs.(PSDs should be in the same plot. Set legend and proper labels)  (10 points)"
      ]
    },
    {
      "cell_type": "code",
      "execution_count": null,
      "metadata": {
        "id": "P1dDRi-wJvyz"
      },
      "outputs": [],
      "source": [
        "#ERSPs vs PSD of ERPs\n",
        "#############################\n",
        "# Your code goes here\n",
        "\n",
        "#############################"
      ]
    },
    {
      "cell_type": "markdown",
      "metadata": {
        "id": "vr88W_-3K7iY"
      },
      "source": [
        "Functional connectivity (FC) refers to the temporal correlations between spatially remote neurophysiological events. In simpler terms, it’s about how different brain regions communicate and synchronize their activity. Phase-phase coupling is one of the most important types of the FC. Study about PLV and PLI, explain how they are work and compare them. (This article could be useful: Phase lag index: Assessment of functional connectivity from multi channel EEG and MEG with diminished bias from common sources. in this article PLV mentioned as mean phase coherency)  (10 points)"
      ]
    },
    {
      "cell_type": "markdown",
      "metadata": {},
      "source": [
        "Your answer:"
      ]
    },
    {
      "cell_type": "markdown",
      "metadata": {
        "id": "E3CmYB3yWiTU"
      },
      "source": [
        "(Bonus) Study about wPLI. Explain the differences between wPLI and PLI. Suggest a code to calculate wPLI and plot the results. You may use the functions that you have already defined.(Set x,y label and legend)  (25 points)"
      ]
    },
    {
      "cell_type": "code",
      "execution_count": null,
      "metadata": {
        "id": "hNKatOuaWhsw"
      },
      "outputs": [],
      "source": [
        "# WPLI\n",
        "def WPLI(data):\n",
        "    #############################\n",
        "    # Your code goes here\n",
        "\n",
        "    #############################\n",
        "    pass\n"
      ]
    }
  ],
  "metadata": {
    "colab": {
      "provenance": []
    },
    "kernelspec": {
      "display_name": "Python 3",
      "name": "python3"
    },
    "language_info": {
      "name": "python"
    }
  },
  "nbformat": 4,
  "nbformat_minor": 0
}
