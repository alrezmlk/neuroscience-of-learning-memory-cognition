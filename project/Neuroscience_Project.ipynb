{
  "cells": [
    {
      "cell_type": "markdown",
      "id": "25a2f6b7-3673-4309-858f-9ad378991122",
      "metadata": {
        "id": "25a2f6b7-3673-4309-858f-9ad378991122"
      },
      "source": [
        "<center><h1>Neuroscience Final Project</h1></center>\n",
        "<center><h2>Deep Q Networks</h2></center>"
      ]
    },
    {
      "cell_type": "markdown",
      "id": "50719fc4-e0dc-4783-8720-bf973172d7a3",
      "metadata": {
        "id": "50719fc4-e0dc-4783-8720-bf973172d7a3"
      },
      "source": [
        "In this notebook, we are going to get familiar with Deep Q Networks. You have been introduced to Reinforcement Learning in the course. Deep Q Networks are an entension of Reinforcement Learning where we incorporate Deep Neural Networks in our policy enhacement procedure.\n",
        "\n",
        "We also implement an Agent in an online learning environment, meaning that the agent has no initial memory of the rewards in each state. We go through the environment based on our policy and store the observed rewards and corresponding state in the memory of the agent\n",
        "\n",
        "Finally, we utilize the Agent in a practical Maze Solving problem. The agent is prompted to iterate the maze from a defined starting point to an ending point, maximing the profit from the total route."
      ]
    },
    {
      "cell_type": "markdown",
      "id": "19d0648a-c633-4463-92a8-4406ccd7b23a",
      "metadata": {
        "id": "19d0648a-c633-4463-92a8-4406ccd7b23a"
      },
      "source": [
        "**Name** :\n",
        "\n",
        "**Student ID**:"
      ]
    },
    {
      "cell_type": "markdown",
      "id": "aa2ab6b3-620c-41a4-a279-c9b36654c3c5",
      "metadata": {
        "id": "aa2ab6b3-620c-41a4-a279-c9b36654c3c5"
      },
      "source": [
        "## Importing the necessary packages"
      ]
    },
    {
      "cell_type": "code",
      "execution_count": 1,
      "id": "a128a4f2-b79c-4a19-8cef-881940edd941",
      "metadata": {
        "id": "a128a4f2-b79c-4a19-8cef-881940edd941"
      },
      "outputs": [],
      "source": [
        "import torch as T\n",
        "import torch.nn as nn\n",
        "import torch.nn.functional as F\n",
        "import torch.optim as optim\n",
        "import numpy as np\n",
        "import random"
      ]
    },
    {
      "cell_type": "markdown",
      "id": "a6978916-8630-46b6-8825-3ea596594e9e",
      "metadata": {
        "id": "a6978916-8630-46b6-8825-3ea596594e9e"
      },
      "source": [
        "## Creating the Deep Q Network"
      ]
    },
    {
      "cell_type": "code",
      "execution_count": 2,
      "id": "b1a399fd-abb4-40bc-8a30-eadc2ac090a9",
      "metadata": {
        "id": "b1a399fd-abb4-40bc-8a30-eadc2ac090a9"
      },
      "outputs": [],
      "source": [
        "class DeepQNetwork(nn.Module):\n",
        "    def __init__(self, lr, input_dims, fc1_dims, fc2_dims,\n",
        "                 n_actions):\n",
        "        super(DeepQNetwork, self).__init__()\n",
        "        self.input_dims = input_dims\n",
        "        self.fc1_dims = fc1_dims\n",
        "        self.fc2_dims = fc2_dims\n",
        "        self.n_actions = n_actions\n",
        "\n",
        "        self.fc1 = nn.Linear(*tuple(input_dims), fc1_dims)\n",
        "        self.fc2 = nn.Linear(fc1_dims, fc2_dims)\n",
        "        self.fc3 = nn.Linear(fc2_dims, n_actions)\n",
        "\n",
        "        self.optimizer = optim.Adam(self.parameters(), lr=lr)\n",
        "        self.loss = nn.MSELoss()\n",
        "        self.device = T.device('cuda:0' if T.cuda.is_available() else 'cpu')\n",
        "        self.to(self.device)\n",
        "\n",
        "    def forward(self, state):\n",
        "        # Calculate the forward pass. Use Proper non-linear activation function between the linear layers\n",
        "        hid1 = self.fc1(state)\n",
        "        hid1 = T.relu(hid1)\n",
        "        hid2 = self.fc2(hid1)\n",
        "        hid2 = T.relu(hid2)\n",
        "        actions = self.fc3(hid2)\n",
        "\n",
        "        # action_probs = torch.softmax(actions, dim=-1) #????\n",
        "\n",
        "        return actions"
      ]
    },
    {
      "cell_type": "markdown",
      "id": "43badcac-20b4-454e-a011-8248410a60e9",
      "metadata": {
        "id": "43badcac-20b4-454e-a011-8248410a60e9"
      },
      "source": [
        "## Creating the Agent"
      ]
    },
    {
      "cell_type": "code",
      "execution_count": 3,
      "id": "8d7244ea-6e78-4715-9520-e6e4e20ab376",
      "metadata": {
        "id": "8d7244ea-6e78-4715-9520-e6e4e20ab376"
      },
      "outputs": [],
      "source": [
        "class Agent:\n",
        "    def __init__(self, gamma, epsilon, lr, input_dims, batch_size, n_actions,\n",
        "                 max_mem_size=100000, eps_end=0.05, eps_dec=5e-5):\n",
        "        self.gamma = gamma\n",
        "        self.epsilon = epsilon\n",
        "        self.eps_min = eps_end\n",
        "        self.eps_dec = eps_dec\n",
        "        self.lr = lr\n",
        "        self.action_space = [i for i in range(n_actions)]\n",
        "        self.mem_size = max_mem_size\n",
        "        self.batch_size = batch_size\n",
        "        self.mem_cntr = 0\n",
        "        self.iter_cntr = 0\n",
        "\n",
        "        # Create an instance of te Deep Q network with 256 neurons in each of its hidden layers\n",
        "        self.Q_eval = DeepQNetwork(lr, n_actions=n_actions, input_dims= tuple(input_dims), fc1_dims=256, fc2_dims=256)\n",
        "\n",
        "        self.state_memory = np.zeros((self.mem_size, *input_dims), dtype=np.float32)\n",
        "        self.new_state_memory = np.zeros((self.mem_size, *input_dims), dtype=np.float32)\n",
        "        self.action_memory = np.zeros(self.mem_size, dtype=np.int32)\n",
        "        self.reward_memory = np.zeros(self.mem_size, dtype=np.float32)\n",
        "        self.terminal_memory = np.zeros(self.mem_size, dtype=np.bool_)\n",
        "\n",
        "\n",
        "    # Store one episode alongside its reward, state, next_state\n",
        "    def store_transition(self, state, action, reward, state_, terminal):\n",
        "        index = self.mem_cntr % self.mem_size\n",
        "        self.state_memory[index] = state\n",
        "        self.new_state_memory[index] = state_\n",
        "        self.reward_memory[index] = reward\n",
        "        self.action_memory[index] = action\n",
        "        self.terminal_memory[index] = terminal\n",
        "\n",
        "        self.mem_cntr += 1\n",
        "\n",
        "\n",
        "    # Choose the best action with probability (1 - epsilon), otherwise choose a random direction from the action space\n",
        "    # The best action is defined as the maximum output of the Deep Q Network\n",
        "    def choose_action(self, state):\n",
        "        state = T.tensor(state, dtype=T.float).to(self.Q_eval.device)\n",
        "\n",
        "        if random.uniform(0, 1) > self.epsilon:\n",
        "        # Get the action with the highest Q-value\n",
        "            actions = self.Q_eval(state)\n",
        "            action = T.argmax(actions).item()\n",
        "        else:\n",
        "            action = random.choice(self.action_space)\n",
        "\n",
        "        return action\n",
        "\n",
        "    # Train the Deep Q Network based on the new observations\n",
        "    # The network must learn the target Q values through regression\n",
        "    def learn(self):\n",
        "        # Simply ignore the training phase if there is not enough memory stored yet\n",
        "        if self.mem_cntr < self.batch_size:\n",
        "            return\n",
        "\n",
        "        self.Q_eval.optimizer.zero_grad()\n",
        "\n",
        "        # Choose a random batch of data from the memory\n",
        "        batch = np.array(random.sample(range(min(self.mem_cntr, self.mem_size)), self.batch_size))\n",
        "\n",
        "        state_batch = T.tensor(self.state_memory[batch]).to(self.Q_eval.device)\n",
        "        new_state_batch = T.tensor(\n",
        "                self.new_state_memory[batch]).to(self.Q_eval.device)\n",
        "        action_batch = self.action_memory[batch]\n",
        "        reward_batch = T.tensor(\n",
        "                self.reward_memory[batch]).to(self.Q_eval.device)\n",
        "        terminal_batch = T.tensor(\n",
        "                self.terminal_memory[batch]).to(self.Q_eval.device)\n",
        "        # Current state Q-value as predicted by the network\n",
        "\n",
        "        # Note to filter the matrix to only q-values corresponding to our \"action_batch\"\n",
        "        q_eval = self.Q_eval(state_batch)[np.arange(self.batch_size), action_batch]\n",
        "\n",
        "        # Next state Q-value as predicted by the network for all possible next actions\n",
        "        q_next = self.Q_eval(new_state_batch)\n",
        "        # The target Q-value of our current state with a discount factor of gamma\n",
        "        q_target = reward_batch + (self.gamma * T.max(q_next, dim=1)[0])\n",
        "\n",
        "        # Make the network learn this target Q-value via a proper definitio of loss function\n",
        "        loss = self.Q_eval.loss(q_eval, q_target)\n",
        "        loss.backward()\n",
        "        self.Q_eval.optimizer.step()\n",
        "        # print(\"epsilon is :\", self.epsilon)\n",
        "        self.iter_cntr += 1\n",
        "\n",
        "        # Reduce the epsilon by its decay factor if possible\n",
        "        if self.epsilon > self.eps_min:\n",
        "            self.epsilon -= self.eps_dec\n",
        "            # self.epsilon *= 0.9999"
      ]
    },
    {
      "cell_type": "markdown",
      "id": "773635ba-85f4-4937-8e1a-7e54bdbb2444",
      "metadata": {
        "id": "773635ba-85f4-4937-8e1a-7e54bdbb2444"
      },
      "source": [
        "## Working with the Maze environment"
      ]
    },
    {
      "cell_type": "code",
      "source": [
        "from maze import MazeEnvironment\n",
        "maze1 = MazeEnvironment(np.load('./mazes/maze1.npy').shape[0], maze_path = './mazes/maze1.npy')\n",
        "# x = np.load('./mazes/maze1.npy')\n",
        "# print(x.shape)\n",
        "rand_maze = MazeEnvironment()"
      ],
      "metadata": {
        "id": "DzmjcTkiIVTD"
      },
      "id": "DzmjcTkiIVTD",
      "execution_count": 8,
      "outputs": []
    },
    {
      "cell_type": "code",
      "execution_count": 10,
      "id": "b2592342-df23-49be-9fee-c5ac5a1fbd56",
      "metadata": {
        "colab": {
          "base_uri": "https://localhost:8080/"
        },
        "id": "b2592342-df23-49be-9fee-c5ac5a1fbd56",
        "outputId": "c76fb142-a238-4b4d-d73c-0d2f33aee256"
      },
      "outputs": [
        {
          "output_type": "stream",
          "name": "stdout",
          "text": [
            "episode  0 score 766.00 average score 766.00 epsilon 0.90\n",
            "episode  1 score 601.00 average score 683.50 epsilon 0.80\n",
            "episode  2 score 6153.00 average score 2506.67 epsilon 0.70\n",
            "episode  3 score 3971.00 average score 2872.75 epsilon 0.65\n",
            "episode  4 score 7693.00 average score 3836.80 epsilon 0.58\n",
            "episode  5 score 5240.00 average score 4070.67 epsilon 0.54\n",
            "episode  6 score 5295.00 average score 4245.57 epsilon 0.49\n",
            "episode  7 score 2810.00 average score 4066.12 epsilon 0.46\n",
            "episode  8 score 2267.00 average score 3866.22 epsilon 0.45\n",
            "episode  9 score 5061.00 average score 3985.70 epsilon 0.41\n",
            "episode  10 score 3602.00 average score 4269.30 epsilon 0.39\n",
            "episode  11 score 3620.00 average score 4571.20 epsilon 0.36\n",
            "episode  12 score 4440.00 average score 4399.90 epsilon 0.33\n",
            "episode  13 score 6257.00 average score 4628.50 epsilon 0.29\n",
            "episode  14 score 3677.00 average score 4226.90 epsilon 0.27\n",
            "episode  15 score 2903.00 average score 3993.20 epsilon 0.25\n",
            "episode  16 score 3408.00 average score 3804.50 epsilon 0.23\n",
            "episode  17 score 4167.00 average score 3940.20 epsilon 0.21\n",
            "episode  18 score 2941.00 average score 4007.60 epsilon 0.19\n",
            "episode  19 score 4484.00 average score 3949.90 epsilon 0.16\n",
            "episode  20 score 6189.00 average score 4208.60 epsilon 0.13\n",
            "episode  21 score 7971.00 average score 4643.70 epsilon 0.10\n",
            "episode  22 score 7618.00 average score 4961.50 epsilon 0.10\n",
            "episode  23 score 3842.00 average score 4720.00 epsilon 0.10\n",
            "episode  24 score 2965.00 average score 4648.80 epsilon 0.10\n",
            "episode  25 score 5758.00 average score 4934.30 epsilon 0.10\n",
            "episode  26 score 5533.00 average score 5146.80 epsilon 0.10\n",
            "episode  27 score 3586.00 average score 5088.70 epsilon 0.10\n",
            "episode  28 score 3345.00 average score 5129.10 epsilon 0.10\n",
            "episode  29 score 3238.00 average score 5004.50 epsilon 0.10\n",
            "episode  30 score 4529.00 average score 4838.50 epsilon 0.10\n",
            "episode  31 score 3169.00 average score 4358.30 epsilon 0.10\n",
            "episode  32 score 3828.00 average score 3979.30 epsilon 0.10\n",
            "episode  33 score 4410.00 average score 4036.10 epsilon 0.10\n",
            "episode  34 score 2874.00 average score 4027.00 epsilon 0.10\n",
            "episode  35 score 8003.00 average score 4251.50 epsilon 0.10\n",
            "episode  36 score 2835.00 average score 3981.70 epsilon 0.10\n",
            "episode  37 score 3974.00 average score 4020.50 epsilon 0.10\n",
            "episode  38 score 8970.00 average score 4583.00 epsilon 0.10\n",
            "episode  39 score 3206.00 average score 4579.80 epsilon 0.10\n",
            "episode  40 score 5170.00 average score 4643.90 epsilon 0.10\n",
            "episode  41 score 4699.00 average score 4796.90 epsilon 0.10\n",
            "episode  42 score 4023.00 average score 4816.40 epsilon 0.10\n",
            "episode  43 score 4408.00 average score 4816.20 epsilon 0.10\n",
            "episode  44 score 3386.00 average score 4867.40 epsilon 0.10\n",
            "episode  45 score 4476.00 average score 4514.70 epsilon 0.10\n",
            "episode  46 score 7943.00 average score 5025.50 epsilon 0.10\n",
            "episode  47 score 7166.00 average score 5344.70 epsilon 0.10\n",
            "episode  48 score 3394.00 average score 4787.10 epsilon 0.10\n",
            "episode  49 score 13703.00 average score 5836.80 epsilon 0.10\n",
            "episode  50 score 5779.00 average score 5897.70 epsilon 0.10\n",
            "episode  51 score 8040.00 average score 6231.80 epsilon 0.10\n",
            "episode  52 score 9108.00 average score 6740.30 epsilon 0.10\n",
            "episode  53 score 3525.00 average score 6652.00 epsilon 0.10\n",
            "episode  54 score 4083.00 average score 6721.70 epsilon 0.10\n",
            "episode  55 score 4543.00 average score 6728.40 epsilon 0.10\n",
            "episode  56 score 4405.00 average score 6374.60 epsilon 0.10\n",
            "episode  57 score 9313.00 average score 6589.30 epsilon 0.10\n",
            "episode  58 score 15925.00 average score 7842.40 epsilon 0.10\n",
            "episode  59 score 7971.00 average score 7269.20 epsilon 0.10\n",
            "episode  60 score 6364.00 average score 7327.70 epsilon 0.10\n",
            "episode  61 score 4689.00 average score 6992.60 epsilon 0.10\n",
            "episode  62 score 5419.00 average score 6623.70 epsilon 0.10\n",
            "episode  63 score 5943.00 average score 6865.50 epsilon 0.10\n",
            "episode  64 score 3936.00 average score 6850.80 epsilon 0.10\n",
            "episode  65 score 9080.00 average score 7304.50 epsilon 0.10\n",
            "episode  66 score 5684.00 average score 7432.40 epsilon 0.10\n",
            "episode  67 score 13212.00 average score 7822.30 epsilon 0.10\n",
            "episode  68 score 5841.00 average score 6813.90 epsilon 0.10\n",
            "episode  69 score 20848.00 average score 8101.60 epsilon 0.10\n",
            "episode  70 score 19841.00 average score 9449.30 epsilon 0.10\n",
            "episode  71 score 23180.00 average score 11298.40 epsilon 0.10\n",
            "episode  72 score 22492.00 average score 13005.70 epsilon 0.10\n",
            "episode  73 score 23330.00 average score 14744.40 epsilon 0.10\n",
            "episode  74 score 22529.00 average score 16603.70 epsilon 0.10\n",
            "episode  75 score 23813.00 average score 18077.00 epsilon 0.10\n",
            "episode  76 score 24353.00 average score 19943.90 epsilon 0.10\n",
            "episode  77 score 23962.00 average score 21018.90 epsilon 0.10\n",
            "episode  78 score 24400.00 average score 22874.80 epsilon 0.10\n",
            "episode  79 score 24357.00 average score 23225.70 epsilon 0.10\n",
            "episode  80 score 25218.00 average score 23763.40 epsilon 0.10\n",
            "episode  81 score 25001.00 average score 23945.50 epsilon 0.10\n",
            "episode  82 score 25731.00 average score 24269.40 epsilon 0.10\n",
            "episode  83 score 25508.00 average score 24487.20 epsilon 0.10\n",
            "episode  84 score 25434.00 average score 24777.70 epsilon 0.10\n",
            "episode  85 score 26205.00 average score 25016.90 epsilon 0.10\n",
            "episode  86 score 25808.00 average score 25162.40 epsilon 0.10\n",
            "episode  87 score 26543.00 average score 25420.50 epsilon 0.10\n",
            "episode  88 score 26838.00 average score 25664.30 epsilon 0.10\n",
            "episode  89 score 26562.00 average score 25884.80 epsilon 0.10\n",
            "episode  90 score 26582.00 average score 26021.20 epsilon 0.10\n",
            "episode  91 score 27137.00 average score 26234.80 epsilon 0.10\n",
            "episode  92 score 26793.00 average score 26341.00 epsilon 0.10\n",
            "episode  93 score 27002.00 average score 26490.40 epsilon 0.10\n",
            "episode  94 score 27730.00 average score 26720.00 epsilon 0.10\n",
            "episode  95 score 27482.00 average score 26847.70 epsilon 0.10\n",
            "episode  96 score 27625.00 average score 27029.40 epsilon 0.10\n",
            "episode  97 score 27914.00 average score 27166.50 epsilon 0.10\n",
            "episode  98 score 27630.00 average score 27245.70 epsilon 0.10\n",
            "episode  99 score 28046.00 average score 27394.10 epsilon 0.10\n"
          ]
        }
      ],
      "source": [
        "# from maze.py import MazeEnvironment # changed maze.py to maze to import in colab\n",
        "import warnings\n",
        "warnings.filterwarnings('ignore')\n",
        "\n",
        "# Create a maze environment\n",
        "# You can create a new one or use the files stored in directory mazes to load a maze\n",
        "env = maze1\n",
        "# env = rand_maze\n",
        "agent = Agent(gamma=0.9, epsilon=1.0, lr=0.001, input_dims=[2] , batch_size=8, n_actions=4, eps_end=0.1, eps_dec=1e-4)\n",
        "scores = []\n",
        "n_games = 100\n",
        "\n",
        "for i in range(n_games):\n",
        "\n",
        "    score = 0\n",
        "    done = False\n",
        "    observation = env.reset()\n",
        "    counter = 0\n",
        "    j = 0\n",
        "    while not done:\n",
        "        counter += 1\n",
        "        # If performed 1000 moves and didn't finish the maze, reset the environment\n",
        "        if (counter == 1000):\n",
        "            # print('broken')\n",
        "            break\n",
        "            # counter = 0\n",
        "            # score = 0\n",
        "            # observation = env.reset()\n",
        "\n",
        "        # Make the agent choose an action\n",
        "        action = agent.choose_action(observation)\n",
        "\n",
        "        # Retrieve the reward and next_state from the envirinment\n",
        "        observation_, reward, done = env.step(action)\n",
        "\n",
        "        score += reward\n",
        "\n",
        "        # Store the current episode in the memory\n",
        "        agent.store_transition(observation, action, reward, observation_, done)\n",
        "\n",
        "        # Learn the current episode\n",
        "        agent.learn()\n",
        "\n",
        "        # Change the next state to the current state\n",
        "        observation = observation_\n",
        "        if done:\n",
        "            if agent.epsilon > agent.eps_min:\n",
        "                agent.epsilon -= agent.eps_dec\n",
        "            # self.epsilon *= 0.9999\n",
        "        j += 1\n",
        "        if j > 100000:\n",
        "          print(\"middle reward is:\", score)\n",
        "          break\n",
        "\n",
        "    scores.append(score)\n",
        "\n",
        "    avg_score = np.mean(scores[-10:])\n",
        "\n",
        "    print('episode ', i, 'score %.2f' % score, 'average score %.2f' % avg_score, 'epsilon %.2f' % agent.epsilon)"
      ]
    },
    {
      "cell_type": "code",
      "source": [
        "\n",
        "import matplotlib.pyplot as plt\n",
        "\n",
        "print(len(scores))\n",
        "\n",
        "plt.plot(scores, marker='o', linestyle='-', color='b', label='Scores')\n",
        "\n",
        "# Adding title and labels\n",
        "plt.title('Scores Over Time')\n",
        "plt.xlabel('Episodes')\n",
        "plt.ylabel('Score')\n",
        "\n",
        "# Adding a grid\n",
        "plt.grid(True)\n",
        "\n",
        "# Adding a legend\n",
        "plt.legend()\n",
        "\n",
        "# Display the plot\n",
        "plt.show()"
      ],
      "metadata": {
        "colab": {
          "base_uri": "https://localhost:8080/",
          "height": 489
        },
        "id": "LW-nRas5j1Za",
        "outputId": "ce0116fd-afac-4303-e7f8-63e512a58207"
      },
      "id": "LW-nRas5j1Za",
      "execution_count": 11,
      "outputs": [
        {
          "output_type": "stream",
          "name": "stdout",
          "text": [
            "100\n"
          ]
        },
        {
          "output_type": "display_data",
          "data": {
            "text/plain": [
              "<Figure size 640x480 with 1 Axes>"
            ],
            "image/png": "[encoded data removed]"
          },
          "metadata": {}
        }
      ]
    },
    {
      "cell_type": "markdown",
      "id": "c52ae54d-3c4d-4d3d-82de-6d9a7ec5efff",
      "metadata": {
        "id": "c52ae54d-3c4d-4d3d-82de-6d9a7ec5efff"
      },
      "source": [
        "## Report"
      ]
    },
    {
      "cell_type": "markdown",
      "id": "c970a058-17f5-470f-b402-1e4cfc59c32b",
      "metadata": {
        "id": "c970a058-17f5-470f-b402-1e4cfc59c32b"
      },
      "source": [
        "Try to manipulate constants such as batch_size, epsilon, gamma, .... Try to achieve the maximum score.\n",
        "\n",
        "Grading will not be based on the best scores. However, higher scores can bring bonus grade!\n",
        "\n",
        "\n",
        "\n",
        "\n",
        "Plot the incrementation of your score through n games and try to justify the patterns."
      ]
    },
    {
      "cell_type": "markdown",
      "source": [
        "as we can see in the plot, the model learns to maximize its score after about 70 games played. So from 70th game scores have a big jump to above 20k and from then, the scores the agent gets increase almost linearly. The peak score was in the last game that the agent scored 28046 points in the default maze (maze1.npy in the mazes folder). the hyperparameters were as follows:\n",
        "- gamma : 0.99\n",
        "- epsilon: 1.0\n",
        "- epsilon_min: 0.1\n",
        "- epsilon_dec: $10^{(-4)}$\n",
        "- batch size: 8\n",
        "- learning rate: 0.001\n",
        "\n",
        "A major point that we should also consider is that in the last games the agent doesn't go to the final grid cell to finish the game, instead our limit moves finished the game for it. in another words, it has learned to maximize the total score without learning to go to the final cell and it knows that if it does not finish in 1000 moves nothing will happen and hence this does not concern it. however we can't just punish the agent if it doesn't get to the final grid cell because in that situation we are considering time to be a part of our state space and we have not condidered this before so might become really complicated.\n",
        "\n",
        "another way to teach the model is that we define two states for each grid. one when we have scored as much as the max score that we has previously scored and second when we have not yet reached the threshold. in the first mode we follow the policy for each state that best leads us to the final cell and in the second mode we follow the policy of maximizing our score by doing out search along the maze. this way of implementation has the benefit of requiring just twice as much the number of states that we needed before(two states for each grid of the maze)\n",
        "\n",
        "implementing these two ways requires time and a better defined environment and is out of the subject of this notebook.\n"
      ],
      "metadata": {
        "id": "wcF-13Elut6N"
      },
      "id": "wcF-13Elut6N"
    },
    {
      "cell_type": "markdown",
      "id": "89a409d0-1904-4e1f-ad7c-f6bb931d7caa",
      "metadata": {
        "id": "89a409d0-1904-4e1f-ad7c-f6bb931d7caa"
      },
      "source": [
        "## (Bonus) Target Q Network"
      ]
    },
    {
      "cell_type": "markdown",
      "id": "120c2667-b131-465e-94af-e2e6125ead2c",
      "metadata": {
        "id": "120c2667-b131-465e-94af-e2e6125ead2c"
      },
      "source": [
        "Instead of calculating the target q-value using the formula presented, you can use anonther Deep Neural Network to predict the target Q-values via regression!\n",
        "\n",
        "Implementing the target Q network alonside the eval Q network can lead to more steady behavior of the final score."
      ]
    },
    {
      "cell_type": "code",
      "source": [],
      "metadata": {
        "id": "L81wfVi80UaB"
      },
      "id": "L81wfVi80UaB",
      "execution_count": null,
      "outputs": []
    }
  ],
  "metadata": {
    "kernelspec": {
      "display_name": "Python 3 (ipykernel)",
      "language": "python",
      "name": "python3"
    },
    "language_info": {
      "codemirror_mode": {
        "name": "ipython",
        "version": 3
      },
      "file_extension": ".py",
      "mimetype": "text/x-python",
      "name": "python",
      "nbconvert_exporter": "python",
      "pygments_lexer": "ipython3",
      "version": "3.9.13"
    },
    "colab": {
      "provenance": []
    }
  },
  "nbformat": 4,
  "nbformat_minor": 5
}